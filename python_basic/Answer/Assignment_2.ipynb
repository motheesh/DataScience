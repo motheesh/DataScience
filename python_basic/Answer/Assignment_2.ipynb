{
 "cells": [
  {
   "cell_type": "markdown",
   "id": "1b361302",
   "metadata": {},
   "source": [
    "## 1.What are the two values of the Boolean data type? How do you write them?\n",
    "#### True and False are the 2 values for boolean data type.  \n",
    "    1. True\n",
    "    2. False\n"
   ]
  },
  {
   "cell_type": "markdown",
   "id": "c5511185",
   "metadata": {},
   "source": [
    "## 2. What are the three different types of Boolean operators?\n",
    "#### and, or and not"
   ]
  },
  {
   "cell_type": "code",
   "execution_count": 10,
   "id": "60dcf5df",
   "metadata": {},
   "outputs": [
    {
     "name": "stdout",
     "output_type": "stream",
     "text": [
      "False\n",
      "True\n"
     ]
    }
   ],
   "source": [
    "#eg:\n",
    "#and operator will return true only both conditions are true\n",
    "print(True and False)\n",
    "print(True and True)\n"
   ]
  },
  {
   "cell_type": "code",
   "execution_count": 11,
   "id": "896d7843",
   "metadata": {},
   "outputs": [
    {
     "name": "stdout",
     "output_type": "stream",
     "text": [
      "True\n",
      "False\n"
     ]
    }
   ],
   "source": [
    "#or operator will return true if any one of the condition is true\n",
    "print(True or False)\n",
    "print(False or False)"
   ]
  },
  {
   "cell_type": "code",
   "execution_count": 13,
   "id": "8ed0cda0",
   "metadata": {},
   "outputs": [
    {
     "name": "stdout",
     "output_type": "stream",
     "text": [
      "False\n",
      "True\n"
     ]
    }
   ],
   "source": [
    "#not operator will return opposite of the boolean value\n",
    "print(not(True))\n",
    "print(not(False))"
   ]
  },
  {
   "cell_type": "code",
   "execution_count": 60,
   "id": "402a460c",
   "metadata": {},
   "outputs": [
    {
     "data": {
      "text/html": [
       "<div>\n",
       "<style scoped>\n",
       "    .dataframe tbody tr th:only-of-type {\n",
       "        vertical-align: middle;\n",
       "    }\n",
       "\n",
       "    .dataframe tbody tr th {\n",
       "        vertical-align: top;\n",
       "    }\n",
       "\n",
       "    .dataframe thead th {\n",
       "        text-align: right;\n",
       "    }\n",
       "</style>\n",
       "<table border=\"1\" class=\"dataframe\">\n",
       "  <thead>\n",
       "    <tr style=\"text-align: right;\">\n",
       "      <th></th>\n",
       "      <th>A</th>\n",
       "      <th>B</th>\n",
       "      <th>A and B</th>\n",
       "      <th>A or B</th>\n",
       "      <th>not A</th>\n",
       "      <th>not B</th>\n",
       "    </tr>\n",
       "  </thead>\n",
       "  <tbody>\n",
       "    <tr>\n",
       "      <th>0</th>\n",
       "      <td>False</td>\n",
       "      <td>True</td>\n",
       "      <td>False</td>\n",
       "      <td>True</td>\n",
       "      <td>True</td>\n",
       "      <td>False</td>\n",
       "    </tr>\n",
       "    <tr>\n",
       "      <th>1</th>\n",
       "      <td>True</td>\n",
       "      <td>False</td>\n",
       "      <td>False</td>\n",
       "      <td>True</td>\n",
       "      <td>False</td>\n",
       "      <td>True</td>\n",
       "    </tr>\n",
       "    <tr>\n",
       "      <th>2</th>\n",
       "      <td>False</td>\n",
       "      <td>True</td>\n",
       "      <td>False</td>\n",
       "      <td>True</td>\n",
       "      <td>True</td>\n",
       "      <td>False</td>\n",
       "    </tr>\n",
       "    <tr>\n",
       "      <th>3</th>\n",
       "      <td>True</td>\n",
       "      <td>True</td>\n",
       "      <td>True</td>\n",
       "      <td>True</td>\n",
       "      <td>False</td>\n",
       "      <td>False</td>\n",
       "    </tr>\n",
       "  </tbody>\n",
       "</table>\n",
       "</div>"
      ],
      "text/plain": [
       "       A      B  A and B  A or B  not A  not B\n",
       "0  False   True    False    True   True  False\n",
       "1   True  False    False    True  False   True\n",
       "2  False   True    False    True   True  False\n",
       "3   True   True     True    True  False  False"
      ]
     },
     "execution_count": 60,
     "metadata": {},
     "output_type": "execute_result"
    }
   ],
   "source": [
    "#3. Make a list of each Boolean operator's truth tables \n",
    "#(i.e. every possible combination of Boolean values for the operator and what it evaluate ).\n",
    "\n",
    "import numpy as np\n",
    "import pandas as pd\n",
    "\n",
    "arr=np.array([[False,True],[True,False],[False,True],[True,True]])\n",
    "Truth_table=np.ones((4,6)).astype(bool)\n",
    "\n",
    "head=[\"A\",\"B\",\"A and B\",\"A or B\", \"not A\",\"not B\"]\n",
    "count=0\n",
    "while(count<4):\n",
    "    a=arr[count][0]\n",
    "    b=arr[count][1]\n",
    "    c=(a and b)\n",
    "    d=(a or b)\n",
    "    e=not(a)\n",
    "    f=not(b)\n",
    "    Truth_table[count]=[a,b,c,d,e,f]\n",
    "    count+=1\n",
    "    \n",
    "pd.DataFrame(data=Truth_table,columns=head)"
   ]
  },
  {
   "cell_type": "markdown",
   "id": "91e59057",
   "metadata": {},
   "source": [
    "\n",
    "## 4. What are the values of the following expressions?\n",
    "####  (5 > 4) and (3 == 5)\n",
    "       Ans: False\n",
    "       Explaination : (True and False) = False\n",
    "    \n",
    "#### (5 > 4) or (3 == 5) \n",
    "       Ans: True\n",
    "       Explaination : (True or False) = True\n",
    "        \n",
    "#### not (5 > 4)\n",
    "        Ans: False\n",
    "        Explaination: not(True) = False\n",
    "        \n",
    "#### not ((5 > 4) or (3 == 5))\n",
    "        Ans: True\n",
    "        Explaination: First condition itself pass so it wont check second condition and returns true\n",
    "        (True) or (False) = True\n",
    "        \n",
    "#### (True and True) and (True == False)\n",
    "        Ans: False\n",
    "        Explaination: Second condtion is false since it is \"and\" operator one fails result is false\n",
    "        \n",
    "#### (not False) or (not True)\n",
    "        Ans:True\n",
    "        Explaination: First condition is true, for or operator atleast one is true it returns true\n",
    "\n"
   ]
  },
  {
   "cell_type": "markdown",
   "id": "2951bb3c",
   "metadata": {},
   "source": [
    "## 5. What are the six comparison operators?\n",
    "\n",
    "    == equal to\n",
    "    != not equal to\n",
    "    >= greater than or equal to\n",
    "    <= less than or equal to\n",
    "    > greater than\n",
    "    < less than\n",
    "\n"
   ]
  },
  {
   "cell_type": "code",
   "execution_count": null,
   "id": "29687011",
   "metadata": {},
   "outputs": [],
   "source": []
  },
  {
   "cell_type": "markdown",
   "id": "b7eea713",
   "metadata": {},
   "source": [
    "## 6. How do you tell the difference between the equal to and assignment operators?Describe a condition and when you would use one.\n",
    "\n",
    "#### \"==\" equal to is used to check whether the left side value is equal to right side value or not\n"
   ]
  },
  {
   "cell_type": "code",
   "execution_count": 61,
   "id": "40bbb4c8",
   "metadata": {},
   "outputs": [
    {
     "name": "stdout",
     "output_type": "stream",
     "text": [
      "a is equal to b so it passed the if condition and printing this...\n"
     ]
    }
   ],
   "source": [
    "##  \"==\" equal to is used to check whether the left side value is equal to right side value or not\n",
    "# Example\n",
    "a,b=1,1\n",
    "if a==b:\n",
    "    print(\"a is equal to b so it passed the if condition and printing this...\")\n"
   ]
  },
  {
   "cell_type": "markdown",
   "id": "b4b37341",
   "metadata": {},
   "source": [
    "#### Assignment operators are used to assign values to the variables \"=\"\n",
    "#### there are various compound - assignment operators like +=,-=,/=,%= which is used to perform binary operation based on binary operators"
   ]
  },
  {
   "cell_type": "code",
   "execution_count": 62,
   "id": "347a1dd6",
   "metadata": {},
   "outputs": [
    {
     "name": "stdout",
     "output_type": "stream",
     "text": [
      "20\n",
      "10\n"
     ]
    }
   ],
   "source": [
    "# Example\n",
    "a=10\n",
    "a+=10\n",
    "print(a)\n",
    "a-=10\n",
    "print(a)"
   ]
  },
  {
   "cell_type": "markdown",
   "id": "1a694f97",
   "metadata": {},
   "source": [
    "## 7. Identify the three blocks in this code:\n",
    "    blocks in python can be identified using intentation(Tab space).\n",
    "    In below code we have 2 if block and 1 else block so totally we have 3 blocks in this code\n",
    "    code which is inside if else statement is considered as seperate blocks\n",
    "    \n",
    "    \n",
    "    spam = 0\n",
    "    if spam == 10:\n",
    "        print('eggs')----> this is first block of code it will execute only if the above if condition is True\n",
    "    if spam > 5:\n",
    "        print('bacon')----> this is second block of code it will execute only if the above if condition is True\n",
    "    else:\n",
    "        print('ham')----> this is third block of code it will execute only if the above if condition is False\n",
    "        print('spam')----> this is third block of code it will execute only if the above if condition is False \n",
    "        print('spam')----> this is third block of code it will execute only if the above if condition is False\n"
   ]
  },
  {
   "cell_type": "code",
   "execution_count": 63,
   "id": "b4a70c1b",
   "metadata": {},
   "outputs": [
    {
     "name": "stdout",
     "output_type": "stream",
     "text": [
      "ham\n",
      "spam\n",
      "spam\n"
     ]
    }
   ],
   "source": [
    "spam = 0\n",
    "if spam == 10:\n",
    "    print('eggs')\n",
    "if spam > 5:\n",
    "    print('bacon')\n",
    "else:\n",
    "    print('ham')\n",
    "    print('spam')\n",
    "    print('spam')\n"
   ]
  },
  {
   "cell_type": "markdown",
   "id": "6233d407",
   "metadata": {},
   "source": [
    "## 8. Write code that prints Hello if 1 is stored in spam, \n",
    "## prints Howdy if 2 is stored in spam, \n",
    "## and prints Greetings! if anything else is stored in spam.\n",
    "\n",
    "\n",
    "\n"
   ]
  },
  {
   "cell_type": "code",
   "execution_count": 64,
   "id": "48e5ac72",
   "metadata": {},
   "outputs": [
    {
     "name": "stdout",
     "output_type": "stream",
     "text": [
      "Hello\n"
     ]
    }
   ],
   "source": [
    "spam=1\n",
    "\n",
    "if spam==1:\n",
    "    print(\"Hello\")\n",
    "elif spam==2:\n",
    "    print(\"Howdy\")\n",
    "else:\n",
    "    print(\"Greetings!\")\n"
   ]
  },
  {
   "cell_type": "markdown",
   "id": "d72cb735",
   "metadata": {},
   "source": [
    "\n",
    "## 9.If your programme is stuck in an endless loop, what keys you’ll press?\n",
    "\n",
    "     Cntrl + c\n"
   ]
  },
  {
   "cell_type": "markdown",
   "id": "6656b0e5",
   "metadata": {},
   "source": [
    "## 10. How can you tell the difference between break and continue?\n",
    "\n",
    "    break statement used to exit the loop and comes out of the block\n",
    "    continue statement skips the rest of the code inside the block and continue with next iteration.\n"
   ]
  },
  {
   "cell_type": "code",
   "execution_count": 68,
   "id": "85b78669",
   "metadata": {},
   "outputs": [
    {
     "name": "stdout",
     "output_type": "stream",
     "text": [
      "0\n",
      "1\n",
      "2\n"
     ]
    }
   ],
   "source": [
    "#example\n",
    "#break statement used to exit the loop and comes out of the block\n",
    "count=0\n",
    "while count<4:\n",
    "    print(count)\n",
    "    if count==2:\n",
    "        break\n",
    "    count+=1\n"
   ]
  },
  {
   "cell_type": "markdown",
   "id": "8844820d",
   "metadata": {},
   "source": [
    "If you look at the above example, actual loop should exit until the count value is 3. But we used break inside if statement \n",
    "where break should get executed if count==2. So the moment when the count reaches 2, break statement got executed and exit from\n",
    "loop irrespestive of while loop condition check"
   ]
  },
  {
   "cell_type": "code",
   "execution_count": 69,
   "id": "1111452c",
   "metadata": {},
   "outputs": [
    {
     "name": "stdout",
     "output_type": "stream",
     "text": [
      "1\n",
      "3\n",
      "4\n"
     ]
    }
   ],
   "source": [
    "#example\n",
    "#continue statement skips the rest of the code inside the block and continue with next iteration.\n",
    "\n",
    "count=0\n",
    "while count<4:\n",
    "    count+=1\n",
    "    if count==2:\n",
    "        continue\n",
    "    print(count)"
   ]
  },
  {
   "cell_type": "markdown",
   "id": "2c21735b",
   "metadata": {},
   "source": [
    "If you look at the above example, number 2 was not printed. The reason is when the count reaches 2 the continue statement got\n",
    "executed and it skipped the rest of the code inside the block and continued with next iteration."
   ]
  },
  {
   "cell_type": "markdown",
   "id": "7d2e36ab",
   "metadata": {},
   "source": [
    "## 11. In a for loop, what is the difference between range(10), range(0, 10), and range(0, 10, 1)?\n"
   ]
  },
  {
   "cell_type": "markdown",
   "id": "7b75c690",
   "metadata": {},
   "source": [
    "##### range(10)\n",
    "    by default it will start with 0 if we dont mention start\n",
    "    loop will get executed from 0 till 9 and stop will get eliminated\n",
    "    \n",
    "##### range(0,10)\n",
    "    here we gave 2 arguements, first arguement is start and second arguement is stop.\n",
    "    loop will start from 0 and ends at 9\n",
    "    \n",
    "##### range(0,10,1)\n",
    "    here we have 3 arguements, first arguement is start, second arguement is stop and \n",
    "    third one is steps(how many steps it should jump)\n",
    "    loop will start from 0 and ends at 9 \n",
    "    since we gave steps 1, at every iteration steps will get added to i and it will go 0,1,2,3...9\n",
    "    in case if we change it to 2 then it will jump from 0(i),2(i+2),4(i+2),6(i+2)....8(i+2)"
   ]
  },
  {
   "cell_type": "code",
   "execution_count": 73,
   "id": "2d09dddf",
   "metadata": {},
   "outputs": [
    {
     "name": "stdout",
     "output_type": "stream",
     "text": [
      "0\n",
      "2\n",
      "4\n",
      "6\n",
      "8\n"
     ]
    }
   ],
   "source": [
    "#example for step=2\n",
    "\n",
    "for i in range(0,10,2):\n",
    "    print(i)"
   ]
  },
  {
   "cell_type": "markdown",
   "id": "8dc09437",
   "metadata": {},
   "source": [
    "## 12. Write a short program that prints the numbers 1 to 10 using a for loop.\n",
    "## Then write an equivalent program that prints the numbers 1 to 10 using a while loop.\n"
   ]
  },
  {
   "cell_type": "code",
   "execution_count": 5,
   "id": "2fdf51e5",
   "metadata": {},
   "outputs": [
    {
     "name": "stdout",
     "output_type": "stream",
     "text": [
      "1\n",
      "2\n",
      "3\n",
      "4\n",
      "5\n",
      "6\n",
      "7\n",
      "8\n",
      "9\n",
      "10\n"
     ]
    }
   ],
   "source": [
    "for i in range(1,11):print(i)"
   ]
  },
  {
   "cell_type": "code",
   "execution_count": 7,
   "id": "924211bb",
   "metadata": {},
   "outputs": [
    {
     "name": "stdout",
     "output_type": "stream",
     "text": [
      "1\n",
      "2\n",
      "3\n",
      "4\n",
      "5\n",
      "6\n",
      "7\n",
      "8\n",
      "9\n",
      "10\n"
     ]
    }
   ],
   "source": [
    "i=1\n",
    "while i<11:\n",
    "    print(i)\n",
    "    i=i+1"
   ]
  },
  {
   "cell_type": "markdown",
   "id": "cab76f19",
   "metadata": {},
   "source": [
    "## 13. If you had a function named bacon() inside a module named spam, how would you call it after importing spam?\n",
    "\n",
    "    import spam as spam\n",
    "    spam.bacon()"
   ]
  },
  {
   "cell_type": "code",
   "execution_count": null,
   "id": "6cfcab3e",
   "metadata": {},
   "outputs": [],
   "source": []
  },
  {
   "cell_type": "code",
   "execution_count": null,
   "id": "0fc33b7c",
   "metadata": {},
   "outputs": [],
   "source": []
  },
  {
   "cell_type": "code",
   "execution_count": null,
   "id": "7fbcccd3",
   "metadata": {},
   "outputs": [],
   "source": []
  }
 ],
 "metadata": {
  "kernelspec": {
   "display_name": "Python 3",
   "language": "python",
   "name": "python3"
  },
  "language_info": {
   "codemirror_mode": {
    "name": "ipython",
    "version": 3
   },
   "file_extension": ".py",
   "mimetype": "text/x-python",
   "name": "python",
   "nbconvert_exporter": "python",
   "pygments_lexer": "ipython3",
   "version": "3.8.8"
  }
 },
 "nbformat": 4,
 "nbformat_minor": 5
}
