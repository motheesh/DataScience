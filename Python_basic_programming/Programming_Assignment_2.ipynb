{
 "cells": [
  {
   "cell_type": "markdown",
   "id": "d51917f1",
   "metadata": {},
   "source": [
    "1. Write a Python program to convert kilometers to miles?\n",
    "2. Write a Python program to convert Celsius to Fahrenheit?\n",
    "3. Write a Python program to display calendar?\n",
    "4. Write a Python program to solve quadratic equation?\n",
    "5. Write a Python program to swap two variables without temp variable?\n"
   ]
  },
  {
   "cell_type": "code",
   "execution_count": 4,
   "id": "23871142",
   "metadata": {},
   "outputs": [
    {
     "data": {
      "text/plain": [
       "31.069999999999997"
      ]
     },
     "execution_count": 4,
     "metadata": {},
     "output_type": "execute_result"
    }
   ],
   "source": [
    "#1\n",
    "\n",
    "def ConvertKmToMile(kms):\n",
    "    return kms*0.6214\n",
    "\n",
    "ConvertKmToMile(50)"
   ]
  },
  {
   "cell_type": "code",
   "execution_count": 6,
   "id": "cc545d40",
   "metadata": {},
   "outputs": [
    {
     "data": {
      "text/plain": [
       "33.8"
      ]
     },
     "execution_count": 6,
     "metadata": {},
     "output_type": "execute_result"
    }
   ],
   "source": [
    "#2\n",
    "\n",
    "def ConvertCelsiusToFahrenheit(c):\n",
    "    return c*33.8\n",
    "\n",
    "ConvertCelsiusToFahrenheit(1)\n",
    "\n"
   ]
  },
  {
   "cell_type": "code",
   "execution_count": 101,
   "id": "f8d3268d",
   "metadata": {},
   "outputs": [
    {
     "name": "stdout",
     "output_type": "stream",
     "text": [
      "     July 2021\n",
      "Mo Tu We Th Fr Sa Su\n",
      "          1  2  3  4\n",
      " 5  6  7  8  9 10 11\n",
      "12 13 14 15 16 17 18\n",
      "19 20 21 22 23 24 25\n",
      "26 27 28 29 30 31\n",
      "\n"
     ]
    },
    {
     "data": {
      "image/png": "[encoded data removed]",
      "text/plain": [
       "<Figure size 432x288 with 1 Axes>"
      ]
     },
     "metadata": {
      "needs_background": "light"
     },
     "output_type": "display_data"
    }
   ],
   "source": [
    "#3\n",
    "from datetime import datetime as dt\n",
    "import calendar\n",
    "import pandas as pd\n",
    "\n",
    "def displayCalender(year,month):\n",
    "    return calendar.monthcalendar(year,month)\n",
    "\n",
    "labels=[\"Mon\",\"Tue\",\"Wed\",\"Thur\",\"Fri\",\"Sat\",\"Sun\"]\n",
    "year=datetime.now().year\n",
    "month=datetime.now().month\n",
    "caln=displayCalender(year,month)\n",
    "print(calendar.month(year,month))\n",
    "\n",
    "\n",
    "\n",
    "df=pd.DataFrame(caln,columns=labels)\n",
    "df\n",
    "\n",
    "import matplotlib.pyplot as plot\n",
    "fig,ax=plot.subplots(1,1)\n",
    "ax.axis('off')\n",
    "ax.table(cellText=df.replace(0,\"\").values,\n",
    "        colLabels=df.columns,\n",
    "        colColours=(len(df.columns)-2)*[\"skyblue\"]+[\"yellow\"]*2,loc=\"top\")\n",
    "plot.xlabel(\"Month Calender\")\n",
    "ax.get_xaxis().set_visible(True)\n",
    "ax.get_yaxis().set_visible(False)\n",
    "plot.show()\n"
   ]
  },
  {
   "cell_type": "code",
   "execution_count": 112,
   "id": "ef04f7ce",
   "metadata": {},
   "outputs": [
    {
     "name": "stdout",
     "output_type": "stream",
     "text": [
      "-104\n"
     ]
    },
    {
     "data": {
      "text/plain": [
       "[(-15-25.495097567963924j), (-15+25.495097567963924j)]"
      ]
     },
     "execution_count": 112,
     "metadata": {},
     "output_type": "execute_result"
    }
   ],
   "source": [
    "#4\n",
    "# Formula for Quadratic equation\n",
    "#(-b + sqrt(b**2-(4*a*c))/2*a\n",
    "#(-b - sqrt(b**2-(4*a*c))/2*a\n",
    "import cmath\n",
    "\n",
    "def SolveQuadratic(a,b,c):\n",
    "    if a==0:\n",
    "        return \"Invalid input for quadratic equation a should not be equal to 0\"\n",
    "    d=b**2-(4*a*c)\n",
    "    print(d)\n",
    "    x=(-b - cmath.sqrt(d))/2*a\n",
    "    y=(-b + cmath.sqrt(d))/2*a\n",
    "    return [x,y]\n",
    "\n",
    "SolveQuadratic(5,6,7)\n"
   ]
  },
  {
   "cell_type": "code",
   "execution_count": 114,
   "id": "21e20a42",
   "metadata": {},
   "outputs": [
    {
     "name": "stdout",
     "output_type": "stream",
     "text": [
      "before swap a=2 and b=3\n",
      "After swap a=3 and b=2\n"
     ]
    }
   ],
   "source": [
    "a,b=2,3\n",
    "print(f\"before swap a={a} and b={b}\")\n",
    "\n",
    "a,b=b,a\n",
    "\n",
    "print(f\"After swap a={a} and b={b}\")"
   ]
  },
  {
   "cell_type": "code",
   "execution_count": null,
   "id": "23106a5a",
   "metadata": {},
   "outputs": [],
   "source": []
  }
 ],
 "metadata": {
  "kernelspec": {
   "display_name": "Python 3",
   "language": "python",
   "name": "python3"
  },
  "language_info": {
   "codemirror_mode": {
    "name": "ipython",
    "version": 3
   },
   "file_extension": ".py",
   "mimetype": "text/x-python",
   "name": "python",
   "nbconvert_exporter": "python",
   "pygments_lexer": "ipython3",
   "version": "3.8.8"
  }
 },
 "nbformat": 4,
 "nbformat_minor": 5
}
