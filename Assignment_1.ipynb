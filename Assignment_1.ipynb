{
 "cells": [
  {
   "cell_type": "markdown",
   "id": "b1f654aa",
   "metadata": {},
   "source": [
    "## 1. In the below elements which of them are values or an expression? eg:- values can be integer or string and expressions will be mathematical operators.\n",
    "* \n",
    "'hello',-87.8,- ,/ ,+,6 \n"
   ]
  },
  {
   "cell_type": "markdown",
   "id": "10a37332",
   "metadata": {},
   "source": [
    "#### ANSWER:\n",
    "\n",
    "    'hello',-87.8---> these are values.\n",
    "    \n",
    "    -,/,+ --> these are operands if we use it with values and variables then it will create an expression\n",
    "\n"
   ]
  },
  {
   "cell_type": "markdown",
   "id": "937a43c2",
   "metadata": {},
   "source": [
    "## 2. What is the difference between string and variable?"
   ]
  },
  {
   "cell_type": "markdown",
   "id": "8cb22d6f",
   "metadata": {},
   "source": [
    "#### ANSWER:\n",
    "\n",
    "Variables are box or vessel which holds the memory location or reference of the different type of values.\n",
    "we can use those reference to manipulate or update it. \n",
    "Variables can hold different types of values like string,int, float,  list,array etc\n",
    "\n",
    "string is a type of value which is collection of characters. It can be created using single quote or double quote\n",
    "\n",
    "name=\"motheesh\"\n",
    "\n",
    "In above expression, name is a variable which holds the reference to the value \"motheesh\" which\n",
    "is type of string."
   ]
  },
  {
   "cell_type": "markdown",
   "id": "a50b3088",
   "metadata": {},
   "source": [
    "\n",
    "## 3. Describe three different data types.\n",
    "\n"
   ]
  },
  {
   "cell_type": "markdown",
   "id": "6685b060",
   "metadata": {},
   "source": [
    "#### ANSWER\n",
    "\n",
    "#### Numeric Data type:\n",
    "    These data types contains only numeric values. It can be integer, float         or complex number.\n",
    "    - int --> can have negative or positive integer values\n",
    "    -float--> can have negative or positive integer values with decimal places\n",
    "    -complex--> can have real part + imaginary part\n",
    "    \n",
    "#### Boolean data type:\n",
    "    Only 2 values are allowed which is true or false\n",
    "    \n",
    "#### Sequence data type:\n",
    "    its a collection of ordered values with same or different data types.\n",
    "    -List    --> mutable\n",
    "    -Tuples  --> immutable\n",
    "    -strings --> collections of list of characters\n",
    "    \n",
    "#### Dictionary data type:\n",
    "    unordered collection of data values. \n",
    "    its a key value pair\n",
    "\n",
    "#### set data type:\n",
    "    contains only unique values.\n",
    "    unordered collection of similar or different data types.\n",
    "    \n"
   ]
  },
  {
   "cell_type": "markdown",
   "id": "877f07f1",
   "metadata": {},
   "source": [
    "## 4. What is an expression made up of? What do all expressions do?\n",
    "\n"
   ]
  },
  {
   "cell_type": "markdown",
   "id": "05ba195e",
   "metadata": {},
   "source": [
    "Expression is made up of combination of operands, variables and values.\n",
    "\n",
    "Expressions will be evaluated by python interpreter and return back results based on operands."
   ]
  },
  {
   "cell_type": "markdown",
   "id": "eea2d30f",
   "metadata": {},
   "source": [
    "5. This assignment statements, like spam = 10. What is the difference between an expression and a statement?\n"
   ]
  },
  {
   "cell_type": "markdown",
   "id": "3e3eabd1",
   "metadata": {},
   "source": [
    " ##### Expression:\n",
    "    Expression always returns value.\n",
    "    Evaluates to single value.\n",
    "    We can print results of expression\n",
    "    Eg: 4+5"
   ]
  },
  {
   "cell_type": "code",
   "execution_count": 4,
   "id": "9bd60095",
   "metadata": {},
   "outputs": [
    {
     "name": "stdout",
     "output_type": "stream",
     "text": [
      "9\n"
     ]
    }
   ],
   "source": [
    "print(4+5)"
   ]
  },
  {
   "cell_type": "markdown",
   "id": "25ae9733",
   "metadata": {},
   "source": [
    "##### Statements:\n",
    "    Statement never return values.\n",
    "    Cannot print any results.\n",
    "    Eg: Assignment Statements,\n",
    "        conditional branching, loops, import, pass etc"
   ]
  },
  {
   "cell_type": "markdown",
   "id": "457665e8",
   "metadata": {},
   "source": [
    "## 6. After running the following code, what does the variable bacon contain?\n",
    "    bacon = 22\n",
    "    bacon + 1"
   ]
  },
  {
   "cell_type": "markdown",
   "id": "ec7868ab",
   "metadata": {},
   "source": [
    "#### ANSWER\n",
    "bacon will have value 22 because in second line we didn't assign the changed valued to bacon.\n",
    "\n",
    "if we make the second statement to bacon=bacon+1 or bacon+=1 then it will have 23."
   ]
  },
  {
   "cell_type": "markdown",
   "id": "f2a6d404",
   "metadata": {},
   "source": [
    "## 7. What should the values of the following two terms be?\n",
    "    'spam' + 'spamspam'\n",
    "    'spam' * 3\n",
    "\n"
   ]
  },
  {
   "cell_type": "markdown",
   "id": "27a1892c",
   "metadata": {},
   "source": [
    "##### Both terms return 'spamspamspam'\n",
    "\n",
    "    1st one will simply concatinate the both strings and return value 'spamspamspam'\n",
    "    2nd one will repeatedly concat the same string thrice since we mentioned as *3 next to the string and return 'spamspamspam'"
   ]
  },
  {
   "cell_type": "code",
   "execution_count": 11,
   "id": "7dde9553",
   "metadata": {},
   "outputs": [
    {
     "data": {
      "text/plain": [
       "'spamspamspam'"
      ]
     },
     "execution_count": 11,
     "metadata": {},
     "output_type": "execute_result"
    }
   ],
   "source": [
    "'spam' * 3"
   ]
  },
  {
   "cell_type": "code",
   "execution_count": 12,
   "id": "772f3e3f",
   "metadata": {},
   "outputs": [
    {
     "data": {
      "text/plain": [
       "'spamspamspam'"
      ]
     },
     "execution_count": 12,
     "metadata": {},
     "output_type": "execute_result"
    }
   ],
   "source": [
    "'spam' + 'spamspam'"
   ]
  },
  {
   "cell_type": "markdown",
   "id": "6f78bb15",
   "metadata": {},
   "source": [
    "## 8. Why is eggs a valid variable name while 100 is invalid?\n",
    "\n"
   ]
  },
  {
   "cell_type": "markdown",
   "id": "506a6097",
   "metadata": {},
   "source": [
    "#### Because one of the rule for python variable declaration is - it should not start with number"
   ]
  },
  {
   "cell_type": "markdown",
   "id": "0e6d4361",
   "metadata": {},
   "source": [
    "## 9. What three functions can be used to get the integer, floating-point number, or string version of a value?\n"
   ]
  },
  {
   "cell_type": "code",
   "execution_count": 17,
   "id": "1374bc58",
   "metadata": {},
   "outputs": [
    {
     "name": "stdout",
     "output_type": "stream",
     "text": [
      "12\n",
      "12\n",
      "12.0\n",
      "12.0\n",
      "12\n",
      "12.0\n"
     ]
    }
   ],
   "source": [
    "#str(),int() and float()\n",
    "\n",
    "#int() function is used to parse values to integer\n",
    "print(int('12'))\n",
    "print(int(12.0))\n",
    "\n",
    "#float() function is used to convert to float version\n",
    "\n",
    "print(float(12))\n",
    "print(float('12'))\n",
    "#str() function is used to convert to string type\n",
    "\n",
    "print(str(12))\n",
    "print(str(12.000))"
   ]
  },
  {
   "cell_type": "markdown",
   "id": "f6793606",
   "metadata": {},
   "source": [
    "## 10. Why does this expression cause an error? How can you fix it?\n",
    "    'I have eaten ' + 99 + ' burritos.'"
   ]
  },
  {
   "cell_type": "code",
   "execution_count": 13,
   "id": "868fc094",
   "metadata": {},
   "outputs": [
    {
     "data": {
      "text/plain": [
       "'i have eaten 99 burritos'"
      ]
     },
     "execution_count": 13,
     "metadata": {},
     "output_type": "execute_result"
    }
   ],
   "source": [
    "# I will use str() function to convert int to string and then i will concat it with other strings.\n",
    "\n",
    "'i have eaten '+str(99)+' burritos'"
   ]
  },
  {
   "cell_type": "code",
   "execution_count": null,
   "id": "ebd7a8d7",
   "metadata": {},
   "outputs": [],
   "source": []
  }
 ],
 "metadata": {
  "kernelspec": {
   "display_name": "Python 3",
   "language": "python",
   "name": "python3"
  },
  "language_info": {
   "codemirror_mode": {
    "name": "ipython",
    "version": 3
   },
   "file_extension": ".py",
   "mimetype": "text/x-python",
   "name": "python",
   "nbconvert_exporter": "python",
   "pygments_lexer": "ipython3",
   "version": "3.8.8"
  }
 },
 "nbformat": 4,
 "nbformat_minor": 5
}
