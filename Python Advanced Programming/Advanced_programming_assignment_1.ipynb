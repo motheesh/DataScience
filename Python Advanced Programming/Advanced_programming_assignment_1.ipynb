{
 "cells": [
  {
   "cell_type": "markdown",
   "id": "6769007e",
   "metadata": {},
   "source": [
    "### 1. Write a function that takes a list of lists and returns the value of all of the symbols in it, where each symbol adds or takes something from the total score. \n",
    "\n",
    "#### Symbol values:\n",
    "    # = 5\n",
    "    O = 3\n",
    "    X = 1\n",
    "    ! = -1\n",
    "    !! = -3\n",
    "    !!! = -5\n",
    "#### A list of lists containing 2 #s, a O, and a !!! would equal (0 + 5 + 5 + 3 - 5) 8.\n",
    "#### If the final score is negative, return 0 (e.g. 3 #s, 3 !!s, 2 !!!s and a X would be\n",
    "####    (0 + 5 + 5 + 5 - 3 - 3 - 3 - 5 - 5 + 1) -3, so return 0.\n",
    "\n",
    "####    Examples\n",
    "    check_score([\n",
    "    [\"#\", \"!\"],\n",
    "    [\"!!\", \"X\"]\n",
    "    ]) ➞ 2\n",
    "    \n",
    "    check_score([\n",
    "    [\"!!!\", \"O\", \"!\"],\n",
    "    [\"X\", \"#\", \"!!!\"],\n",
    "    [\"!!\", \"X\", \"O\"]\n",
    "    ]) ➞ -1"
   ]
  },
  {
   "cell_type": "code",
   "execution_count": 1,
   "id": "27646a2d",
   "metadata": {},
   "outputs": [
    {
     "name": "stdout",
     "output_type": "stream",
     "text": [
      "2\n",
      "-1\n"
     ]
    }
   ],
   "source": [
    "symbols={\"#\":5,\"O\":3,\"X\":1,\"!\":-1,\"!!\":-3,\"!!!\":-5}\n",
    "\n",
    "example1=[\n",
    "    [\"#\", \"!\"],\n",
    "    [\"!!\", \"X\"]\n",
    "    ]\n",
    "example2=[\n",
    "    [\"!!!\", \"O\", \"!\"],\n",
    "    [\"X\", \"#\", \"!!!\"],\n",
    "    [\"!!\", \"X\", \"O\"]\n",
    "    ]\n",
    "\n",
    "def check_score(lst):\n",
    "    sum=0\n",
    "    for i in lst:\n",
    "        \n",
    "        for j in i:\n",
    "            if j in symbols:\n",
    "                sum+=symbols[j]\n",
    "    return sum\n",
    "\n",
    "print(check_score(example1))\n",
    "print(check_score(example2))\n",
    "\n",
    "        \n",
    "    "
   ]
  },
  {
   "cell_type": "markdown",
   "id": "139c9454",
   "metadata": {},
   "source": [
    "#### 2. Create a function that takes a variable number of arguments, each argument representing the number of items in a group, and returns the number of permutations (combinations) of items that you could get by taking one item from each group.\n",
    "   \n",
    "   #### Examples\n",
    "    combinations(2, 3) ➞ 6\n",
    "    combinations(3, 7, 4) ➞ 84\n",
    "    combinations(2, 3, 4, 5) ➞ 120"
   ]
  },
  {
   "cell_type": "code",
   "execution_count": 2,
   "id": "3d0618b8",
   "metadata": {},
   "outputs": [
    {
     "name": "stdout",
     "output_type": "stream",
     "text": [
      "6\n",
      "84\n",
      "120\n"
     ]
    }
   ],
   "source": [
    "def combinations(*args):\n",
    "    val=1\n",
    "    for i in args:\n",
    "        val*=i\n",
    "    return val\n",
    "\n",
    "print(combinations(2, 3))\n",
    "print(combinations(3, 7, 4))\n",
    "print(combinations(2, 3, 4, 5))"
   ]
  },
  {
   "cell_type": "markdown",
   "id": "fd9b1a3f",
   "metadata": {},
   "source": [
    "#### 3. Create a function that takes a string as an argument and returns the Morse code equivalent.\n",
    "\n",
    "   #### Examples\n",
    "   \n",
    "        encode_morse(\"EDABBIT CHALLENGE\") ➞ \". -.. .- -... -... .. - -.-. .... .- .-.. .-..\n",
    "        . -. --. .\";\n",
    "        encode_morse(\"HELP ME !\") ➞ \".... . .-.. .--. -- . -.-.--\";\n",
    "        \n",
    "   #### This dictionary can be used for coding:\n",
    "   \n",
    "        char_to_dots = {\n",
    "        \"A\": \".-\", \"B\": \"-...\", \"C\": \"-.-.\", \"D\": \"-..\", \"E\": \".\", \"F\": \"..-.\",\n",
    "        \"G\": \"--.\", \"H\": \"....\", \"I\": \"..\", \"J\": \".---\", \"K\": \"-.-\", \"L\": \".-..\",\n",
    "        \"M\": \"--\", \"N\": \"-.\", \"O\": \"---\", \"P\": \".--.\", \"Q\": \"--.-\", \"R\": \".-.\",\n",
    "        \"S\": \"...\", \"T\": \"-\", \"U\": \"..-\", \"V\": \"...-\", \"W\": \".--\", \"X\": \"-..-\",\n",
    "        \"Y\": \"-.--\", \"Z\": \"--..\", \" \": \" \", \"0\": \"-----\",\n",
    "        \"1\": \".----\", \"2\": \"..---\", \"3\": \"...--\", \"4\": \"....-\", \"5\": \".....\",\n",
    "        \"6\": \"-....\", \"7\": \"--...\", \"8\": \"---..\", \"9\": \"----.\",\n",
    "        \"@\": \".-...\", \"\"\": \".----.\", \"@\": \".--.-.\", \")\": \"-.--.-\", \"(\": \"-.--.\",\n",
    "        \":\": \"---...\", \",\": \"--..--\", \"=\": \"-...-\", \"!\": \"-.-.--\", \".\": \".-.-.-\",\n",
    "        \"-\": \"-....-\", \"+\": \".-.-.\", \"\"\": \".-..-.\", \"?\": \"..--..\", \"/\": \"-..-.\"}"
   ]
  },
  {
   "cell_type": "code",
   "execution_count": 3,
   "id": "db39b274",
   "metadata": {},
   "outputs": [
    {
     "name": "stdout",
     "output_type": "stream",
     "text": [
      ".-...--...-.....- -.-......-.-...-...-.--..\n",
      "......-...--. --. \n"
     ]
    }
   ],
   "source": [
    "char_to_dots = {\n",
    "    \"A\": \".-\", \"B\": \"-...\", \"C\": \"-.-.\", \"D\": \"-..\", \"E\": \".\", \"F\": \"..-.\",\n",
    "    \"G\": \"--.\", \"H\": \"....\", \"I\": \"..\", \"J\": \".---\", \"K\": \"-.-\", \"L\": \".-..\",\n",
    "    \"M\": \"--\", \"N\": \"-.\", \"O\": \"---\", \"P\": \".--.\", \"Q\": \"--.-\", \"R\": \".-.\",\n",
    "    \"S\": \"...\", \"T\": \"-\", \"U\": \"..-\", \"V\": \"...-\", \"W\": \".--\", \"X\": \"-..-\",\n",
    "    \"Y\": \"-.--\", \"Z\": \"--..\", \" \": \" \", \"0\": \"-----\",\n",
    "    \"1\": \".----\", \"2\": \"..---\", \"3\": \"...--\", \"4\": \"....-\", \"5\": \".....\",\n",
    "    \"6\": \"-....\", \"7\": \"--...\", \"8\": \"---..\", \"9\": \"----.\",\n",
    "    \"@\": \".-...\", \"\"\": \".----.\", \"@\": \".--.-.\", \")\": \"-.--.-\", \"(\": \"-.--.\",\n",
    "    \":\": \"---...\", \",\": \"--..--\", \"=\": \"-...-\", \"!\": \"-.-.--\", \".\": \".-.-.-\",\n",
    "    \"-\": \"-....-\", \"+\": \".-.-.\", \"\"\": \".-..-.\", \"?\": \"..--..\", \"/\": \"-..-.\"}\n",
    "\n",
    "def encode_morse(letter):\n",
    "    encoded_value=\"\"\n",
    "    for i in letter:\n",
    "        if i in char_to_dots:\n",
    "            encoded_value+=char_to_dots[i]\n",
    "    return encoded_value\n",
    "\n",
    "print(encode_morse(\"EDABBIT CHALLENGE\"))\n",
    "print(encode_morse(\"HELP ME !\"))\n"
   ]
  },
  {
   "cell_type": "markdown",
   "id": "ae3e0734",
   "metadata": {},
   "source": [
    "#### 4. Write a function that takes a number and returns True if it's a prime; False otherwise. The number can be 2^64-1 (2 to the power of 63, not XOR). With the standard technique it would be O(2^64-1), which is much too large for the 10 second time limit.\n",
    "\n",
    "    Examples\n",
    "    prime(7) ➞ True\n",
    "    prime(56963) ➞ True\n",
    "    prime(5151512515524) ➞ False\n"
   ]
  },
  {
   "cell_type": "code",
   "execution_count": 12,
   "id": "b30f891c",
   "metadata": {},
   "outputs": [
    {
     "name": "stdout",
     "output_type": "stream",
     "text": [
      "True\n",
      "True\n",
      "False\n"
     ]
    }
   ],
   "source": [
    "import numpy as np\n",
    "\n",
    "def is_prime(n):\n",
    "    if n<=1:\n",
    "        return False\n",
    "    if n<=3:\n",
    "        return True\n",
    "    if n%2==0 or n%3==0:\n",
    "        return False\n",
    "    for i in range(5,n+1,6):\n",
    "        if i*i>n:\n",
    "            break\n",
    "        if n%i==0 or n%(i+2)==0:\n",
    "            return False\n",
    "        i+=6\n",
    "    return True\n",
    "\n",
    "\n",
    "print(is_prime(7))\n",
    "print(is_prime(56963) )\n",
    "print(is_prime(5151512515524))"
   ]
  },
  {
   "cell_type": "markdown",
   "id": "9920da87",
   "metadata": {},
   "source": [
    "### 5. Create a function that converts a word to a bitstring and then to a boolean list based on the following criteria:\n",
    "    1. Locate the position of the letter in the English alphabet (from 1 to 26).\n",
    "    2. Odd positions will be represented as 1 and 0 otherwise.\n",
    "    3. Convert the represented positions to boolean values, 1 for True and 0 for False.\n",
    "    4. Store the conversions into an array.\n",
    "#### Examples\n",
    "    to_boolean_list(\"deep\") ➞ [False, True, True, False]\n",
    "        # deep converts to 0110\n",
    "        # d is the 4th alphabet - 0\n",
    "        # e is the 5th alphabet - 1\n",
    "        # e is the 5th alphabet - 1\n",
    "        # p is the 16th alphabet - 0\n",
    "    to_boolean_list(\"loves\") ➞ [False, True, False, True, True]\n",
    "    to_boolean_list(\"tesh\") ➞ [False, True, True, False]"
   ]
  },
  {
   "cell_type": "code",
   "execution_count": 39,
   "id": "4fd02e85",
   "metadata": {},
   "outputs": [
    {
     "name": "stdout",
     "output_type": "stream",
     "text": [
      "[False, True, True, False]\n",
      "[False, True, False, True, True]\n",
      "[False, True, True, False]\n"
     ]
    }
   ],
   "source": [
    "def to_boolean_list(word):\n",
    "    lst=[]\n",
    "    for i in word:\n",
    "        if ord(i)%2==1:\n",
    "            lst.append(True)\n",
    "        else:\n",
    "            lst.append(False)\n",
    "    return lst\n",
    "            \n",
    "\n",
    "print(to_boolean_list(\"deep\"))\n",
    "print(to_boolean_list(\"loves\"))\n",
    "print(to_boolean_list(\"tesh\"))"
   ]
  },
  {
   "cell_type": "code",
   "execution_count": null,
   "id": "0e969f6d",
   "metadata": {},
   "outputs": [],
   "source": []
  }
 ],
 "metadata": {
  "kernelspec": {
   "display_name": "Python 3",
   "language": "python",
   "name": "python3"
  },
  "language_info": {
   "codemirror_mode": {
    "name": "ipython",
    "version": 3
   },
   "file_extension": ".py",
   "mimetype": "text/x-python",
   "name": "python",
   "nbconvert_exporter": "python",
   "pygments_lexer": "ipython3",
   "version": "3.8.8"
  }
 },
 "nbformat": 4,
 "nbformat_minor": 5
}
