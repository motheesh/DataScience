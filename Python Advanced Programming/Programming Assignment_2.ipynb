{
 "cells": [
  {
   "cell_type": "markdown",
   "id": "ddffcdd6",
   "metadata": {},
   "source": [
    "#### 1. Write a function that takes a positive integer num and calculates how many\n",
    "    dots exist in a pentagonal shape around the center dot on the Nth iteration.\n",
    "    In the image below you can see the first iteration is only a single dot. On the\n",
    "    second, there are 6 dots. On the third, there are 16 dots, and on the fourth\n",
    "    there are 31 dots.\n",
    "\n",
    "    Return the number of dots that exist in the whole pentagon on the Nth\n",
    "    iteration.\n",
    "    Examples\n",
    "    pentagonal(1) ➞ 1\n",
    "    pentagonal(2) ➞ 6\n",
    "    pentagonal(3) ➞ 16\n",
    "    pentagonal(8) ➞ 141\n",
    "\n",
    "   "
   ]
  },
  {
   "cell_type": "code",
   "execution_count": 23,
   "id": "d6494d1f",
   "metadata": {},
   "outputs": [
    {
     "name": "stdout",
     "output_type": "stream",
     "text": [
      "for pentagonal(1)=> 1\n",
      "for pentagonal(2)=> 6\n",
      "for pentagonal(3)=> 16\n",
      "for pentagonal(4)=> 31\n",
      "for pentagonal(5)=> 51\n",
      "for pentagonal(6)=> 76\n",
      "for pentagonal(7)=> 106\n",
      "for pentagonal(8)=> 141\n"
     ]
    }
   ],
   "source": [
    "def pentagonal(num):\n",
    "    if num==1:\n",
    "        return 1\n",
    "    prev=1\n",
    "    current=0\n",
    "    for i in range(1,num+1):\n",
    "        current=prev+(i-1)*5\n",
    "        prev=current\n",
    "    return current\n",
    "\n",
    "\n",
    "for i in range(1,9):\n",
    "    print(f\"for pentagonal({i})=> {pentagonal(i)}\")\n",
    "    "
   ]
  },
  {
   "cell_type": "markdown",
   "id": "2cc91d4a",
   "metadata": {},
   "source": [
    "#### 2. Make a function that encrypts a given input with these steps:\n",
    "    Input: \"apple\"\n",
    "    Step 1: Reverse the input: \"elppa\"\n",
    "    Step 2: Replace all vowels using the following chart:\n",
    "    a => 0\n",
    "    e => 1\n",
    "    i => 2\n",
    "    o => 2\n",
    "    u => 3\n",
    "    # \"1lpp0\"\n",
    "\n",
    "    Step 3: Add \"aca\" to the end of the word: \"1lpp0aca\"\n",
    "    Output: \"1lpp0aca\"\n",
    "    Examples\n",
    "    encrypt(\"banana\") ➞ \"0n0n0baca\"\n",
    "    encrypt(\"karaca\") ➞ \"0c0r0kaca\"\n",
    "    encrypt(\"burak\") ➞ \"k0r3baca\"\n",
    "    encrypt(\"alpaca\") ➞ \"0c0pl0aca\""
   ]
  },
  {
   "cell_type": "code",
   "execution_count": 57,
   "id": "d1673195",
   "metadata": {},
   "outputs": [
    {
     "name": "stdout",
     "output_type": "stream",
     "text": [
      "for encrypt(apple) =>  1lpp0aca\n",
      "for encrypt(banana) =>  0n0n0baca\n",
      "for encrypt(karaca) =>  0c0r0kaca\n",
      "for encrypt(burak) =>  k0r3baca\n",
      "for encrypt(alpaca) =>  0c0pl0aca\n"
     ]
    }
   ],
   "source": [
    "def encrypt(word):\n",
    "    code={'a':'0','e':'1','i':'2','o':'2','u':'3'}\n",
    "    encrypted=\"\"\n",
    "    for i,value in enumerate(word[::-1]):\n",
    "        if value in code.keys():\n",
    "            encrypted+=code[value]\n",
    "        else:\n",
    "            encrypted+=value\n",
    "\n",
    "    return encrypted+\"aca\"\n",
    "\n",
    "\n",
    "#testing output\n",
    "\n",
    "for i in [\"apple\",\"banana\",\"karaca\",\"burak\",\"alpaca\"]:\n",
    "    print(f\"for encrypt({i}) =>  {encrypt(i)}\")\n"
   ]
  },
  {
   "cell_type": "markdown",
   "id": "4080c0b1",
   "metadata": {},
   "source": [
    "#### 3. Given the month and year as numbers, return whether that month contains a Friday 13th.(i.e You can check Python&#39;s datetime module)\n",
    "    Examples\n",
    "    has_friday_13(3, 2020) ➞ True\n",
    "    has_friday_13(10, 2017) ➞ True\n",
    "    has_friday_13(1, 1985) ➞ False"
   ]
  },
  {
   "cell_type": "code",
   "execution_count": 68,
   "id": "4a453bcd",
   "metadata": {},
   "outputs": [
    {
     "name": "stdout",
     "output_type": "stream",
     "text": [
      "True\n",
      "True\n",
      "False\n"
     ]
    }
   ],
   "source": [
    "import datetime\n",
    "def has_friday_13(day,year):\n",
    "    return datetime.datetime(year,day,13).strftime(\"%A\")==\"Friday\"\n",
    "\n",
    "#testing\n",
    "\n",
    "print(has_friday_13(3, 2020))\n",
    "print(has_friday_13(10, 2017))\n",
    "print(has_friday_13(1, 1985))"
   ]
  },
  {
   "cell_type": "markdown",
   "id": "a69cbe4a",
   "metadata": {},
   "source": [
    "#### 4. Write a regular expression that will help us count how many bad cookies are produced every day. You must use RegEx negative lookbehind.\n",
    "    Example:\n",
    "    lst = [\"bad cookie\", \"good cookie\", \"bad cookie\", \"good cookie\", \"good cookie\"]\n",
    "    pattern = \"yourregularexpressionhere\"\n",
    "    len(re.findall(pattern, \", \".join(lst))) ➞ 2"
   ]
  },
  {
   "cell_type": "code",
   "execution_count": 80,
   "id": "a1d48394",
   "metadata": {},
   "outputs": [
    {
     "data": {
      "text/plain": [
       "2"
      ]
     },
     "execution_count": 80,
     "metadata": {},
     "output_type": "execute_result"
    }
   ],
   "source": [
    "import re\n",
    "lst = [\"bad cookie\", \"good cookie\", \"bad cookie\", \"good cookie\", \"good cookie\"]\n",
    "#negative lookbehind\n",
    "pattern = \"(?<!good) cookie\"\n",
    "len(re.findall(pattern, \", \".join(lst)))"
   ]
  },
  {
   "cell_type": "markdown",
   "id": "f8630bb2",
   "metadata": {},
   "source": [
    "#### 5. Given a list of words in the singular form, return a set of those words in the plural form if they appear more than once in the list.\n",
    "    Examples\n",
    "    pluralize([\"cow\", \"pig\", \"cow\", \"cow\"]) ➞ { \"cows\", \"pig\" }\n",
    "    pluralize([\"table\", \"table\", \"table\"]) ➞ { \"tables\" }\n",
    "\n",
    "    pluralize([\"chair\", \"pencil\", \"arm\"]) ➞ { \"chair\", \"pencil\", \"arm\" }"
   ]
  },
  {
   "cell_type": "code",
   "execution_count": 92,
   "id": "52f9cb4e",
   "metadata": {},
   "outputs": [
    {
     "name": "stdout",
     "output_type": "stream",
     "text": [
      "['pig', 'cows'] ['tables'] ['pencil', 'arm', 'chair']\n"
     ]
    }
   ],
   "source": [
    "import re\n",
    "def pluralize(lst):\n",
    "    plural=[]\n",
    "    for i in set(lst):\n",
    "        if len(re.findall(i,(\",\").join(lst)))>1:\n",
    "            plural.append(i+\"s\")\n",
    "        else:\n",
    "            plural.append(i)\n",
    "    return plural\n",
    "\n",
    "#Examples\n",
    "print(pluralize([\"cow\", \"pig\", \"cow\", \"cow\"]),\n",
    "    pluralize([\"table\", \"table\", \"table\"]),\n",
    "    pluralize([\"chair\", \"pencil\", \"arm\"]) )"
   ]
  },
  {
   "cell_type": "code",
   "execution_count": null,
   "id": "8fa32aff",
   "metadata": {},
   "outputs": [],
   "source": []
  }
 ],
 "metadata": {
  "kernelspec": {
   "display_name": "Python 3",
   "language": "python",
   "name": "python3"
  },
  "language_info": {
   "codemirror_mode": {
    "name": "ipython",
    "version": 3
   },
   "file_extension": ".py",
   "mimetype": "text/x-python",
   "name": "python",
   "nbconvert_exporter": "python",
   "pygments_lexer": "ipython3",
   "version": "3.8.8"
  }
 },
 "nbformat": 4,
 "nbformat_minor": 5
}
